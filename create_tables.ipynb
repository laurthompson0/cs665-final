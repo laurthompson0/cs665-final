{
 "cells": [
  {
   "cell_type": "markdown",
   "metadata": {},
   "source": [
    "### Create Tables\n",
    "\n",
    "The purpose of this notebook is to generate visualization of the tables in `output/dataframes` for our final report."
   ]
  },
  {
   "cell_type": "code",
   "execution_count": null,
   "metadata": {},
   "outputs": [],
   "source": [
    "import dataframe_image as dfi\n",
    "import pandas as pd "
   ]
  },
  {
   "cell_type": "code",
   "execution_count": 2,
   "metadata": {},
   "outputs": [
    {
     "name": "stderr",
     "output_type": "stream",
     "text": [
      "[0419/164108.650104:WARNING:bluez_dbus_manager.cc(248)] Floss manager not present, cannot set Floss enable/disable.\n",
      "[0419/164108.655402:ERROR:angle_platform_impl.cc(44)] Display.cpp:966 (initialize): ANGLE Display::initialize error 0: Internal Vulkan error (-3): Initialization of an object could not be completed for implementation-specific reasons, in ../../third_party/angle/src/libANGLE/renderer/vulkan/RendererVk.cpp, initialize:1271.\n",
      "[0419/164108.655465:ERROR:gl_surface_egl.cc(808)] EGL Driver message (Critical) eglInitialize: Internal Vulkan error (-3): Initialization of an object could not be completed for implementation-specific reasons, in ../../third_party/angle/src/libANGLE/renderer/vulkan/RendererVk.cpp, initialize:1271.\n",
      "[0419/164108.655482:ERROR:gl_surface_egl.cc(1430)] eglInitialize SwANGLE failed with error EGL_NOT_INITIALIZED\n",
      "[0419/164108.655498:ERROR:gl_ozone_egl.cc(20)] GLSurfaceEGL::InitializeOneOff failed.\n",
      "[0419/164108.656405:ERROR:viz_main_impl.cc(188)] Exiting GPU process due to errors during initialization\n",
      "[0419/164108.661827:ERROR:gpu_init.cc(446)] Passthrough is not supported, GL is disabled, ANGLE is \n",
      "[0419/164108.787774:INFO:headless_shell.cc(659)] Written to file /tmp/tmp9b4w2hbq/temp.png.\n"
     ]
    },
    {
     "data": {
      "text/html": [
       "<style type=\"text/css\">\n",
       "</style>\n",
       "<table id=\"T_0fb0d_\">\n",
       "  <caption>Distanced Result Metrics</caption>\n",
       "  <thead>\n",
       "    <tr>\n",
       "      <th class=\"blank level0\" >&nbsp;</th>\n",
       "      <th class=\"col_heading level0 col0\" >Model</th>\n",
       "      <th class=\"col_heading level0 col1\" > Dist. Precision</th>\n",
       "      <th class=\"col_heading level0 col2\" >Dist. Recall</th>\n",
       "      <th class=\"col_heading level0 col3\" >Dist. F1</th>\n",
       "    </tr>\n",
       "  </thead>\n",
       "  <tbody>\n",
       "    <tr>\n",
       "      <th id=\"T_0fb0d_level0_row0\" class=\"row_heading level0 row0\" >0</th>\n",
       "      <td id=\"T_0fb0d_row0_col0\" class=\"data row0 col0\" >ResNet50</td>\n",
       "      <td id=\"T_0fb0d_row0_col1\" class=\"data row0 col1\" >0.859813</td>\n",
       "      <td id=\"T_0fb0d_row0_col2\" class=\"data row0 col2\" >0.920000</td>\n",
       "      <td id=\"T_0fb0d_row0_col3\" class=\"data row0 col3\" >0.888889</td>\n",
       "    </tr>\n",
       "    <tr>\n",
       "      <th id=\"T_0fb0d_level0_row1\" class=\"row_heading level0 row1\" >1</th>\n",
       "      <td id=\"T_0fb0d_row1_col0\" class=\"data row1 col0\" >VGG16</td>\n",
       "      <td id=\"T_0fb0d_row1_col1\" class=\"data row1 col1\" >0.886792</td>\n",
       "      <td id=\"T_0fb0d_row1_col2\" class=\"data row1 col2\" >0.940000</td>\n",
       "      <td id=\"T_0fb0d_row1_col3\" class=\"data row1 col3\" >0.912621</td>\n",
       "    </tr>\n",
       "    <tr>\n",
       "      <th id=\"T_0fb0d_level0_row2\" class=\"row_heading level0 row2\" >2</th>\n",
       "      <td id=\"T_0fb0d_row2_col0\" class=\"data row2 col0\" >Combined</td>\n",
       "      <td id=\"T_0fb0d_row2_col1\" class=\"data row2 col1\" >0.876190</td>\n",
       "      <td id=\"T_0fb0d_row2_col2\" class=\"data row2 col2\" >0.920000</td>\n",
       "      <td id=\"T_0fb0d_row2_col3\" class=\"data row2 col3\" >0.897561</td>\n",
       "    </tr>\n",
       "  </tbody>\n",
       "</table>\n"
      ],
      "text/plain": [
       "<pandas.io.formats.style.Styler at 0x7fd2c6256250>"
      ]
     },
     "execution_count": 2,
     "metadata": {},
     "output_type": "execute_result"
    }
   ],
   "source": [
    "metrics_single_pos = pd.read_csv(\"output/dataframes/metrics_single_pos.csv\", \n",
    "                          low_memory=False, index_col=False, header=\"infer\")\n",
    "metrics_combined_pos = pd.read_csv(\"output/dataframes/metrics_combo_pos.csv\", \n",
    "                          low_memory=False, index_col=False, header=\"infer\")\n",
    "metrics_all = pd.concat([metrics_single_pos, metrics_combined_pos], ignore_index=True)\n",
    "df_styled = metrics_all.head().style.set_caption(\"Distanced Result Metrics\")\n",
    "dfi.export(df_styled, \"output/images/metrics_pos.png\")\n",
    "df_styled"
   ]
  },
  {
   "cell_type": "code",
   "execution_count": 3,
   "metadata": {},
   "outputs": [
    {
     "name": "stderr",
     "output_type": "stream",
     "text": [
      "[0419/164108.961937:WARNING:bluez_dbus_manager.cc(248)] Floss manager not present, cannot set Floss enable/disable.\n",
      "[0419/164108.968588:ERROR:angle_platform_impl.cc(44)] Display.cpp:966 (initialize): ANGLE Display::initialize error 0: Internal Vulkan error (-3): Initialization of an object could not be completed for implementation-specific reasons, in ../../third_party/angle/src/libANGLE/renderer/vulkan/RendererVk.cpp, initialize:1271.\n",
      "[0419/164108.968913:ERROR:gl_surface_egl.cc(808)] EGL Driver message (Critical) eglInitialize: Internal Vulkan error (-3): Initialization of an object could not be completed for implementation-specific reasons, in ../../third_party/angle/src/libANGLE/renderer/vulkan/RendererVk.cpp, initialize:1271.\n",
      "[0419/164108.968951:ERROR:gl_surface_egl.cc(1430)] eglInitialize SwANGLE failed with error EGL_NOT_INITIALIZED\n",
      "[0419/164108.968978:ERROR:gl_ozone_egl.cc(20)] GLSurfaceEGL::InitializeOneOff failed.\n",
      "[0419/164108.969952:ERROR:viz_main_impl.cc(188)] Exiting GPU process due to errors during initialization\n",
      "[0419/164108.974486:ERROR:gpu_init.cc(446)] Passthrough is not supported, GL is disabled, ANGLE is \n",
      "[0419/164109.084052:INFO:headless_shell.cc(659)] Written to file /tmp/tmpzvouh2gb/temp.png.\n"
     ]
    },
    {
     "data": {
      "text/html": [
       "<style type=\"text/css\">\n",
       "</style>\n",
       "<table id=\"T_b1243_\">\n",
       "  <caption>Non-Distanced Result Metrics</caption>\n",
       "  <thead>\n",
       "    <tr>\n",
       "      <th class=\"blank level0\" >&nbsp;</th>\n",
       "      <th class=\"col_heading level0 col0\" >Model</th>\n",
       "      <th class=\"col_heading level0 col1\" > Non-dist. Precision</th>\n",
       "      <th class=\"col_heading level0 col2\" >Non-dist. Recall</th>\n",
       "      <th class=\"col_heading level0 col3\" >Non-dist. F1</th>\n",
       "    </tr>\n",
       "  </thead>\n",
       "  <tbody>\n",
       "    <tr>\n",
       "      <th id=\"T_b1243_level0_row0\" class=\"row_heading level0 row0\" >0</th>\n",
       "      <td id=\"T_b1243_row0_col0\" class=\"data row0 col0\" >ResNet50</td>\n",
       "      <td id=\"T_b1243_row0_col1\" class=\"data row0 col1\" >0.958549</td>\n",
       "      <td id=\"T_b1243_row0_col2\" class=\"data row0 col2\" >0.925000</td>\n",
       "      <td id=\"T_b1243_row0_col3\" class=\"data row0 col3\" >0.941476</td>\n",
       "    </tr>\n",
       "    <tr>\n",
       "      <th id=\"T_b1243_level0_row1\" class=\"row_heading level0 row1\" >1</th>\n",
       "      <td id=\"T_b1243_row1_col0\" class=\"data row1 col0\" >VGG16</td>\n",
       "      <td id=\"T_b1243_row1_col1\" class=\"data row1 col1\" >0.969072</td>\n",
       "      <td id=\"T_b1243_row1_col2\" class=\"data row1 col2\" >0.940000</td>\n",
       "      <td id=\"T_b1243_row1_col3\" class=\"data row1 col3\" >0.954315</td>\n",
       "    </tr>\n",
       "    <tr>\n",
       "      <th id=\"T_b1243_level0_row2\" class=\"row_heading level0 row2\" >2</th>\n",
       "      <td id=\"T_b1243_row2_col0\" class=\"data row2 col0\" >Combined</td>\n",
       "      <td id=\"T_b1243_row2_col1\" class=\"data row2 col1\" >0.876190</td>\n",
       "      <td id=\"T_b1243_row2_col2\" class=\"data row2 col2\" >0.920000</td>\n",
       "      <td id=\"T_b1243_row2_col3\" class=\"data row2 col3\" >0.897561</td>\n",
       "    </tr>\n",
       "  </tbody>\n",
       "</table>\n"
      ],
      "text/plain": [
       "<pandas.io.formats.style.Styler at 0x7fd2c6538190>"
      ]
     },
     "execution_count": 3,
     "metadata": {},
     "output_type": "execute_result"
    }
   ],
   "source": [
    "metrics_single_neg = pd.read_csv(\"output/dataframes/metrics_single_neg.csv\", \n",
    "                          low_memory=False, index_col=False, header=\"infer\")\n",
    "metrics_combined_neg = pd.read_csv(\"output/dataframes/metrics_combo_neg.csv\", \n",
    "                          low_memory=False, index_col=False, header=\"infer\")\n",
    "metrics_all = pd.concat([metrics_single_neg, metrics_combined_neg], ignore_index=True)\n",
    "df_styled = metrics_all.head().style.set_caption(\"Non-Distanced Result Metrics\")\n",
    "dfi.export(df_styled, \"output/images/metrics_neg.png\")\n",
    "df_styled"
   ]
  }
 ],
 "metadata": {
  "interpreter": {
   "hash": "a73c24dfce9a0f4c1e875b890d068c026a947d4805d80159e81d47d053081c89"
  },
  "kernelspec": {
   "display_name": "Python 3.7.13 ('cs665final')",
   "language": "python",
   "name": "python3"
  },
  "language_info": {
   "codemirror_mode": {
    "name": "ipython",
    "version": 3
   },
   "file_extension": ".py",
   "mimetype": "text/x-python",
   "name": "python",
   "nbconvert_exporter": "python",
   "pygments_lexer": "ipython3",
   "version": "3.7.13"
  },
  "orig_nbformat": 4
 },
 "nbformat": 4,
 "nbformat_minor": 2
}
