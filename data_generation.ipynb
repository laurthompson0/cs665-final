{
 "cells": [
  {
   "cell_type": "markdown",
   "metadata": {},
   "source": [
    "### CS 665 Final Project\n",
    "\n",
    "Seth Lewis, Nick Netterville, Carment Saunders, Laura Thompson  \n",
    "CS 665, Deep Learning  \n",
    "SPR 2022, 04/21/2022   "
   ]
  },
  {
   "cell_type": "markdown",
   "metadata": {},
   "source": [
    "# Data Generation\n",
    "\n",
    "The purpose of this notebook is to generate the image data used to train, test, and validate our model.\n",
    "\n",
    "The final data consists of [TODO] images. [TODO] of these images are labeled '1' (positive data) indicating an image of a crowd that is socially distanced. The remaining [TODO] images are labeled '0' (negative data) indicating an image of a crowd that is not socially distancing."
   ]
  },
  {
   "cell_type": "markdown",
   "metadata": {},
   "source": [
    "## Data Collection Methods"
   ]
  },
  {
   "cell_type": "markdown",
   "metadata": {},
   "source": [
    "### Negative Data\n",
    "\n",
    "The negative data (images of crowds not socially distancing) for this project was collected from an existing dataset, [JHU-Crowd++](http://www.crowd-counting.com/#download) which is a dataset primarily used for crowd counting. For the purposes of our experiment, we collected the first 1000 training images from this dataset that met the following criteria:  \n",
    "- More than 3 people in the image (crowd)\n",
    "- The crowd is densly packed (most people are within 6ft of each other)\n",
    "- Image is taken from crowd level, not above\n",
    "- No Severe blurring\n",
    "- No Severe weather conditions\n",
    "- Most people in the image are not obscured by other features\n",
    "\n",
    "For more details on the exact imlementation of this, see `get_negatives.py`"
   ]
  },
  {
   "cell_type": "code",
   "execution_count": 2,
   "metadata": {},
   "outputs": [],
   "source": [
    "from preprocessing_scripts.get_negatives import get_negative_data\n",
    "\n",
    "#run only if jhu data is present in this directory\n",
    "get_negative_data(\"jhu_crowd_v2.0\", \"negative_data\")"
   ]
  },
  {
   "cell_type": "markdown",
   "metadata": {},
   "source": [
    "### Positive Data\n",
    "\n",
    "The positive data for this experiment was collected manually by searching for images of people social distancing. The criteria for these images are the same as the criteria for the negative data, except that a majority of the crowd must be standing away from one another, e.g. sparsely packed."
   ]
  },
  {
   "cell_type": "markdown",
   "metadata": {},
   "source": [
    "## Data Augmentation"
   ]
  },
  {
   "cell_type": "markdown",
   "metadata": {},
   "source": [
    "### Negative Data\n",
    "\n",
    "Due to the significantly larger number of negative images available for this problem, we have initially chosen not to perform any augmentation on the negative images in order to increase the data size."
   ]
  },
  {
   "cell_type": "markdown",
   "metadata": {},
   "source": [
    "### Positive Data\n",
    "\n",
    "Because the positive data set is notably smaller than the negative data set, we elected to augment the positive data in several different ways in order to increase the number of positive images to be comparable to the number of negative images. The following methods were used to augment the positive data:\n",
    "- flipping\n",
    "- mirroring\n",
    "- adding noise\n",
    "- cropping\n",
    "- [TODO]"
   ]
  },
  {
   "cell_type": "code",
   "execution_count": 3,
   "metadata": {},
   "outputs": [],
   "source": [
    "from preprocessing_scripts.augment import augment_data\n",
    "from preprocessing_scripts.augmentation_functions import AUGMENTATION_FUNCTIONS\n",
    "\n",
    "augment_data(\"positive_data\", \"augmented_positive_data\", AUGMENTATION_FUNCTIONS)"
   ]
  },
  {
   "cell_type": "markdown",
   "metadata": {},
   "source": [
    "## Combining Positive and Negative Data\n",
    "\n",
    "The final step in generating our data set was to take the negative dataset and augmented positive dataset and combine them to create a final `data` directory containing an `image_labels.csv` file of image labels of the form `<img_number>, <label>` corresponding to each image in an `images` directory named `<img_number>.jpg`\n",
    "\n",
    "The final image data is randomly ordered."
   ]
  },
  {
   "cell_type": "code",
   "execution_count": 4,
   "metadata": {},
   "outputs": [],
   "source": [
    "from preprocessing_scripts.combine_data import combine\n",
    "\n",
    "combine([\"negative_data\", \"augmented_positive_data\"]) # Negative data MUST come first for labeling purposes"
   ]
  }
 ],
 "metadata": {
  "interpreter": {
   "hash": "908c13c35a9b400e69871a79d5afccdb1b813daa1010ff1c36eaa5fde185e265"
  },
  "kernelspec": {
   "display_name": "Python [conda env:cs665final]",
   "language": "python",
   "name": "conda-env-cs665final-py"
  },
  "language_info": {
   "codemirror_mode": {
    "name": "ipython",
    "version": 3
   },
   "file_extension": ".py",
   "mimetype": "text/x-python",
   "name": "python",
   "nbconvert_exporter": "python",
   "pygments_lexer": "ipython3",
   "version": "3.7.13"
  }
 },
 "nbformat": 4,
 "nbformat_minor": 2
}
